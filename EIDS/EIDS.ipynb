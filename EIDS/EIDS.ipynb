{
  "nbformat": 4,
  "nbformat_minor": 0,
  "metadata": {
    "colab": {
      "provenance": []
    },
    "kernelspec": {
      "name": "python3",
      "display_name": "Python 3"
    },
    "language_info": {
      "name": "python"
    }
  },
  "cells": [
    {
      "cell_type": "code",
      "execution_count": null,
      "metadata": {
        "id": "O4VjJhrCISjB",
        "colab": {
          "base_uri": "https://localhost:8080/"
        },
        "outputId": "71edb05d-3270-4b6e-9755-457ea0750fd1"
      },
      "outputs": [
        {
          "output_type": "stream",
          "name": "stdout",
          "text": [
            "Requirement already satisfied: pandas in /usr/local/lib/python3.10/dist-packages (2.0.3)\n",
            "Requirement already satisfied: scikit-learn in /usr/local/lib/python3.10/dist-packages (1.2.2)\n",
            "Requirement already satisfied: matplotlib in /usr/local/lib/python3.10/dist-packages (3.7.1)\n",
            "Requirement already satisfied: seaborn in /usr/local/lib/python3.10/dist-packages (0.13.1)\n",
            "Requirement already satisfied: python-dateutil>=2.8.2 in /usr/local/lib/python3.10/dist-packages (from pandas) (2.8.2)\n",
            "Requirement already satisfied: pytz>=2020.1 in /usr/local/lib/python3.10/dist-packages (from pandas) (2023.4)\n",
            "Requirement already satisfied: tzdata>=2022.1 in /usr/local/lib/python3.10/dist-packages (from pandas) (2024.1)\n",
            "Requirement already satisfied: numpy>=1.21.0 in /usr/local/lib/python3.10/dist-packages (from pandas) (1.25.2)\n",
            "Requirement already satisfied: scipy>=1.3.2 in /usr/local/lib/python3.10/dist-packages (from scikit-learn) (1.11.4)\n",
            "Requirement already satisfied: joblib>=1.1.1 in /usr/local/lib/python3.10/dist-packages (from scikit-learn) (1.4.2)\n",
            "Requirement already satisfied: threadpoolctl>=2.0.0 in /usr/local/lib/python3.10/dist-packages (from scikit-learn) (3.5.0)\n",
            "Requirement already satisfied: contourpy>=1.0.1 in /usr/local/lib/python3.10/dist-packages (from matplotlib) (1.2.1)\n",
            "Requirement already satisfied: cycler>=0.10 in /usr/local/lib/python3.10/dist-packages (from matplotlib) (0.12.1)\n",
            "Requirement already satisfied: fonttools>=4.22.0 in /usr/local/lib/python3.10/dist-packages (from matplotlib) (4.53.1)\n",
            "Requirement already satisfied: kiwisolver>=1.0.1 in /usr/local/lib/python3.10/dist-packages (from matplotlib) (1.4.5)\n",
            "Requirement already satisfied: packaging>=20.0 in /usr/local/lib/python3.10/dist-packages (from matplotlib) (24.1)\n",
            "Requirement already satisfied: pillow>=6.2.0 in /usr/local/lib/python3.10/dist-packages (from matplotlib) (9.4.0)\n",
            "Requirement already satisfied: pyparsing>=2.3.1 in /usr/local/lib/python3.10/dist-packages (from matplotlib) (3.1.2)\n",
            "Requirement already satisfied: six>=1.5 in /usr/local/lib/python3.10/dist-packages (from python-dateutil>=2.8.2->pandas) (1.16.0)\n"
          ]
        }
      ],
      "source": [
        "!pip install pandas scikit-learn matplotlib seaborn"
      ]
    },
    {
      "cell_type": "markdown",
      "source": [
        "# **Load and Inspect the Datasets:**"
      ],
      "metadata": {
        "id": "SDDjdmbnIHRN"
      }
    },
    {
      "cell_type": "code",
      "source": [
        "import pandas as pd\n",
        "\n",
        "# Load the datasets\n",
        "train_df = pd.read_csv('/content/KDDTrain.csv')\n",
        "test_df = pd.read_csv('/content/KDDTest.csv')\n",
        "\n",
        "# Display basic information about the datasets\n",
        "print(\"Training Data Info:\")\n",
        "print(train_df.info())\n",
        "print(\"\\nTesting Data Info:\")\n",
        "print(test_df.info())\n",
        "\n",
        "# Display the first few rows of the training dataset\n",
        "print(\"\\nFirst few rows of the training dataset:\")\n",
        "print(train_df.head())\n"
      ],
      "metadata": {
        "colab": {
          "base_uri": "https://localhost:8080/"
        },
        "id": "fuTLEHiCLAUr",
        "outputId": "c386ec44-5bd8-496b-d4ed-e235e88e35bf"
      },
      "execution_count": null,
      "outputs": [
        {
          "output_type": "stream",
          "name": "stdout",
          "text": [
            "Training Data Info:\n",
            "<class 'pandas.core.frame.DataFrame'>\n",
            "RangeIndex: 125973 entries, 0 to 125972\n",
            "Data columns (total 43 columns):\n",
            " #   Column                       Non-Null Count   Dtype  \n",
            "---  ------                       --------------   -----  \n",
            " 0   duration                     125973 non-null  int64  \n",
            " 1   protocol_type                125973 non-null  object \n",
            " 2   service                      125973 non-null  object \n",
            " 3   flag                         125973 non-null  object \n",
            " 4   src_bytes                    125973 non-null  int64  \n",
            " 5   dst_bytes                    125973 non-null  int64  \n",
            " 6   land                         125973 non-null  int64  \n",
            " 7   wrong_fragment               125973 non-null  int64  \n",
            " 8   urgent                       125973 non-null  int64  \n",
            " 9   hot                          125973 non-null  int64  \n",
            " 10  num_failed_logins            125973 non-null  int64  \n",
            " 11  logged_in                    125973 non-null  int64  \n",
            " 12  num_compromised              125973 non-null  int64  \n",
            " 13  root_shell                   125973 non-null  int64  \n",
            " 14  su_attempted                 125973 non-null  int64  \n",
            " 15  num_root                     125973 non-null  int64  \n",
            " 16  num_file_creations           125973 non-null  int64  \n",
            " 17  num_shells                   125973 non-null  int64  \n",
            " 18  num_access_files             125973 non-null  int64  \n",
            " 19  num_outbound_cmds            125973 non-null  int64  \n",
            " 20  is_hot_login                 125973 non-null  int64  \n",
            " 21  is_guest_login               125973 non-null  int64  \n",
            " 22  count                        125973 non-null  int64  \n",
            " 23  srv_count                    125973 non-null  int64  \n",
            " 24  serror_rate                  125973 non-null  float64\n",
            " 25  srv_serror_rate              125973 non-null  float64\n",
            " 26  rerror_rate                  125973 non-null  float64\n",
            " 27  srv_rerror_rate              125973 non-null  float64\n",
            " 28  same_srv_rate                125973 non-null  float64\n",
            " 29  diff_srv_rate                125973 non-null  float64\n",
            " 30  srv_diff_host_rate           125973 non-null  float64\n",
            " 31  dst_host_count               125973 non-null  int64  \n",
            " 32  dst_host_srv_count           125973 non-null  int64  \n",
            " 33  dst_host_same_srv_rate       125973 non-null  float64\n",
            " 34  dst_host_diff_srv_rate       125973 non-null  float64\n",
            " 35  dst_host_same_src_port_rate  125973 non-null  float64\n",
            " 36  dst_host_srv_diff_host_rate  125973 non-null  float64\n",
            " 37  dst_host_serror_rate         125973 non-null  float64\n",
            " 38  dst_host_srv_serror_rate     125973 non-null  float64\n",
            " 39  dst_host_rerror_rate         125973 non-null  float64\n",
            " 40  dst_host_srv_rerror_rate     125973 non-null  float64\n",
            " 41  attack_class                 125973 non-null  object \n",
            " 42  num_learners                 125973 non-null  int64  \n",
            "dtypes: float64(15), int64(24), object(4)\n",
            "memory usage: 41.3+ MB\n",
            "None\n",
            "\n",
            "Testing Data Info:\n",
            "<class 'pandas.core.frame.DataFrame'>\n",
            "RangeIndex: 22544 entries, 0 to 22543\n",
            "Data columns (total 43 columns):\n",
            " #   Column                       Non-Null Count  Dtype  \n",
            "---  ------                       --------------  -----  \n",
            " 0   duration                     22544 non-null  int64  \n",
            " 1   protocol_type                22544 non-null  object \n",
            " 2   service                      22544 non-null  object \n",
            " 3   flag                         22544 non-null  object \n",
            " 4   src_bytes                    22544 non-null  int64  \n",
            " 5   dst_bytes                    22544 non-null  int64  \n",
            " 6   land                         22544 non-null  int64  \n",
            " 7   wrong_fragment               22544 non-null  int64  \n",
            " 8   urgent                       22544 non-null  int64  \n",
            " 9   hot                          22544 non-null  int64  \n",
            " 10  num_failed_logins            22544 non-null  int64  \n",
            " 11  logged_in                    22544 non-null  int64  \n",
            " 12  num_compromised              22544 non-null  int64  \n",
            " 13  root_shell                   22544 non-null  int64  \n",
            " 14  su_attempted                 22544 non-null  int64  \n",
            " 15  num_root                     22544 non-null  int64  \n",
            " 16  num_file_creations           22544 non-null  int64  \n",
            " 17  num_shells                   22544 non-null  int64  \n",
            " 18  num_access_files             22544 non-null  int64  \n",
            " 19  num_outbound_cmds            22544 non-null  int64  \n",
            " 20  is_hot_login                 22544 non-null  int64  \n",
            " 21  is_guest_login               22544 non-null  int64  \n",
            " 22  count                        22544 non-null  int64  \n",
            " 23  srv_count                    22544 non-null  int64  \n",
            " 24  serror_rate                  22544 non-null  float64\n",
            " 25  srv_serror_rate              22544 non-null  float64\n",
            " 26  rerror_rate                  22544 non-null  float64\n",
            " 27  srv_rerror_rate              22544 non-null  float64\n",
            " 28  same_srv_rate                22544 non-null  float64\n",
            " 29  diff_srv_rate                22544 non-null  float64\n",
            " 30  srv_diff_host_rate           22544 non-null  float64\n",
            " 31  dst_host_count               22544 non-null  int64  \n",
            " 32  dst_host_srv_count           22544 non-null  int64  \n",
            " 33  dst_host_same_srv_rate       22544 non-null  float64\n",
            " 34  dst_host_diff_srv_rate       22544 non-null  float64\n",
            " 35  dst_host_same_src_port_rate  22544 non-null  float64\n",
            " 36  dst_host_srv_diff_host_rate  22544 non-null  float64\n",
            " 37  dst_host_serror_rate         22544 non-null  float64\n",
            " 38  dst_host_srv_serror_rate     22544 non-null  float64\n",
            " 39  dst_host_rerror_rate         22544 non-null  float64\n",
            " 40  dst_host_srv_rerror_rate     22544 non-null  float64\n",
            " 41  attack_class                 22544 non-null  object \n",
            " 42  num_learners                 22544 non-null  int64  \n",
            "dtypes: float64(15), int64(24), object(4)\n",
            "memory usage: 7.4+ MB\n",
            "None\n",
            "\n",
            "First few rows of the training dataset:\n",
            "   duration protocol_type   service flag  src_bytes  dst_bytes  land  \\\n",
            "0         0           tcp  ftp_data   SF        491          0     0   \n",
            "1         0           udp     other   SF        146          0     0   \n",
            "2         0           tcp   private   S0          0          0     0   \n",
            "3         0           tcp      http   SF        232       8153     0   \n",
            "4         0           tcp      http   SF        199        420     0   \n",
            "\n",
            "   wrong_fragment  urgent  hot  ...  dst_host_same_srv_rate  \\\n",
            "0               0       0    0  ...                    0.17   \n",
            "1               0       0    0  ...                    0.00   \n",
            "2               0       0    0  ...                    0.10   \n",
            "3               0       0    0  ...                    1.00   \n",
            "4               0       0    0  ...                    1.00   \n",
            "\n",
            "   dst_host_diff_srv_rate  dst_host_same_src_port_rate  \\\n",
            "0                    0.03                         0.17   \n",
            "1                    0.60                         0.88   \n",
            "2                    0.05                         0.00   \n",
            "3                    0.00                         0.03   \n",
            "4                    0.00                         0.00   \n",
            "\n",
            "   dst_host_srv_diff_host_rate  dst_host_serror_rate  \\\n",
            "0                         0.00                  0.00   \n",
            "1                         0.00                  0.00   \n",
            "2                         0.00                  1.00   \n",
            "3                         0.04                  0.03   \n",
            "4                         0.00                  0.00   \n",
            "\n",
            "   dst_host_srv_serror_rate  dst_host_rerror_rate  dst_host_srv_rerror_rate  \\\n",
            "0                      0.00                  0.05                      0.00   \n",
            "1                      0.00                  0.00                      0.00   \n",
            "2                      1.00                  0.00                      0.00   \n",
            "3                      0.01                  0.00                      0.01   \n",
            "4                      0.00                  0.00                      0.00   \n",
            "\n",
            "   attack_class  num_learners  \n",
            "0        normal            20  \n",
            "1        normal            15  \n",
            "2       neptune            19  \n",
            "3        normal            21  \n",
            "4        normal            21  \n",
            "\n",
            "[5 rows x 43 columns]\n"
          ]
        }
      ]
    },
    {
      "cell_type": "markdown",
      "source": [
        "# **Data Preprocessing:**"
      ],
      "metadata": {
        "id": "-SS7LVMoIMw8"
      }
    },
    {
      "cell_type": "code",
      "source": [
        "import numpy as np\n",
        "from sklearn.preprocessing import LabelEncoder, StandardScaler\n",
        "\n",
        "# Handle missing values (if any)\n",
        "train_df = train_df.dropna()\n",
        "test_df = test_df.dropna()\n",
        "\n",
        "# Encode categorical variables, INCLUDING 'attack_class'\n",
        "categorical_columns = ['protocol_type', 'service', 'flag', 'attack_class'] # Add 'attack_class' here\n",
        "label_encoders = {col: LabelEncoder().fit(train_df[col]) for col in categorical_columns}\n",
        "\n",
        "# Function to safely transform categorical variables\n",
        "def transform_with_unknown(label_encoder, series):\n",
        "    unique_values = set(series.unique())\n",
        "    known_values = set(label_encoder.classes_)\n",
        "    unknown_values = unique_values - known_values\n",
        "    if unknown_values:\n",
        "        # Add unknown values to the encoder's classes\n",
        "        label_encoder.classes_ = np.append(label_encoder.classes_, list(unknown_values))\n",
        "    return label_encoder.transform(series)\n",
        "\n",
        "for col, le in label_encoders.items():\n",
        "    train_df[col] = le.transform(train_df[col])\n",
        "    test_df[col] = transform_with_unknown(le, test_df[col])\n",
        "\n",
        "# Scale numerical features\n",
        "scaler = StandardScaler()\n",
        "numerical_columns = train_df.columns.difference(['attack_class'])\n",
        "train_df[numerical_columns] = scaler.fit_transform(train_df[numerical_columns])\n",
        "test_df[numerical_columns] = scaler.transform(test_df[numerical_columns])\n",
        "\n",
        "# Display the first few rows of the processed training dataset\n",
        "print(\"Processed Training Data:\")\n",
        "print(train_df.head())\n"
      ],
      "metadata": {
        "colab": {
          "base_uri": "https://localhost:8080/"
        },
        "id": "oRUH8DWoLmOd",
        "outputId": "6216929e-bf9f-4883-c53b-dd787ec50b58"
      },
      "execution_count": null,
      "outputs": [
        {
          "output_type": "stream",
          "name": "stdout",
          "text": [
            "Processed Training Data:\n",
            "   duration  protocol_type   service      flag  src_bytes  dst_bytes  \\\n",
            "0 -0.110249      -0.124706 -0.686785  0.751111  -0.007679  -0.004919   \n",
            "1 -0.110249       2.219312  0.781428  0.751111  -0.007737  -0.004919   \n",
            "2 -0.110249      -0.124706  1.087305 -0.736235  -0.007762  -0.004919   \n",
            "3 -0.110249      -0.124706 -0.442083  0.751111  -0.007723  -0.002891   \n",
            "4 -0.110249      -0.124706 -0.442083  0.751111  -0.007728  -0.004814   \n",
            "\n",
            "       land  wrong_fragment    urgent       hot  ...  dst_host_same_srv_rate  \\\n",
            "0 -0.014089       -0.089486 -0.007736 -0.095076  ...               -0.782367   \n",
            "1 -0.014089       -0.089486 -0.007736 -0.095076  ...               -1.161030   \n",
            "2 -0.014089       -0.089486 -0.007736 -0.095076  ...               -0.938287   \n",
            "3 -0.014089       -0.089486 -0.007736 -0.095076  ...                1.066401   \n",
            "4 -0.014089       -0.089486 -0.007736 -0.095076  ...                1.066401   \n",
            "\n",
            "   dst_host_diff_srv_rate  dst_host_same_src_port_rate  \\\n",
            "0               -0.280282                     0.069972   \n",
            "1                2.736852                     2.367737   \n",
            "2               -0.174417                    -0.480197   \n",
            "3               -0.439078                    -0.383108   \n",
            "4               -0.439078                    -0.480197   \n",
            "\n",
            "   dst_host_srv_diff_host_rate  dst_host_serror_rate  \\\n",
            "0                    -0.289103             -0.639532   \n",
            "1                    -0.289103             -0.639532   \n",
            "2                    -0.289103              1.608759   \n",
            "3                     0.066252             -0.572083   \n",
            "4                    -0.289103             -0.639532   \n",
            "\n",
            "   dst_host_srv_serror_rate  dst_host_rerror_rate  dst_host_srv_rerror_rate  \\\n",
            "0                 -0.624871             -0.224532                 -0.376387   \n",
            "1                 -0.624871             -0.387635                 -0.376387   \n",
            "2                  1.618955             -0.387635                 -0.376387   \n",
            "3                 -0.602433             -0.387635                 -0.345084   \n",
            "4                 -0.624871             -0.387635                 -0.376387   \n",
            "\n",
            "   attack_class  num_learners  \n",
            "0            11      0.216426  \n",
            "1            11     -1.965556  \n",
            "2             9     -0.219970  \n",
            "3            11      0.652823  \n",
            "4            11      0.652823  \n",
            "\n",
            "[5 rows x 43 columns]\n"
          ]
        }
      ]
    },
    {
      "cell_type": "markdown",
      "source": [
        "# **Feature and Target Separation:**"
      ],
      "metadata": {
        "id": "Izz_-mygI0rJ"
      }
    },
    {
      "cell_type": "code",
      "source": [
        "from sklearn.model_selection import train_test_split\n",
        "\n",
        "X_train = train_df.drop('attack_class', axis=1)\n",
        "y_train = train_df['attack_class']\n",
        "X_test = test_df.drop('attack_class', axis=1)\n",
        "y_test = test_df['attack_class']\n",
        "\n",
        "# Split training data for training and validation\n",
        "X_train_split, X_val_split, y_train_split, y_val_split = train_test_split(X_train, y_train, test_size=0.2, random_state=42)"
      ],
      "metadata": {
        "id": "d5kWVejQLr-5"
      },
      "execution_count": null,
      "outputs": []
    },
    {
      "cell_type": "markdown",
      "source": [
        "# **Model Training and Evaluation:**"
      ],
      "metadata": {
        "id": "jY-NSdTvI5ea"
      }
    },
    {
      "cell_type": "code",
      "source": [
        "from sklearn.ensemble import IsolationForest\n",
        "from sklearn.metrics import accuracy_score, precision_score, recall_score, f1_score\n",
        "\n",
        "# Train Isolation Forest model\n",
        "iso_forest = IsolationForest(random_state=42)\n",
        "iso_forest.fit(X_train_split)\n",
        "\n",
        "# Predict on validation data\n",
        "iso_val_preds = iso_forest.predict(X_val_split)\n",
        "\n",
        "# Convert predictions to 0 and 1 (anomaly and normal)\n",
        "iso_val_preds = [1 if pred == -1 else 0 for pred in iso_val_preds]\n",
        "\n",
        "# Evaluate the model\n",
        "iso_accuracy = accuracy_score(y_val_split, iso_val_preds)\n",
        "iso_precision = precision_score(y_val_split, iso_val_preds, average='weighted')\n",
        "iso_recall = recall_score(y_val_split, iso_val_preds, average='weighted')\n",
        "iso_f1 = f1_score(y_val_split, iso_val_preds, average='weighted')\n",
        "\n",
        "print(f'Isolation Forest - Accuracy: {iso_accuracy}, Precision: {iso_precision}, Recall: {iso_recall}, F1 Score: {iso_f1}')\n"
      ],
      "metadata": {
        "colab": {
          "base_uri": "https://localhost:8080/"
        },
        "id": "8ZZTt8FaLvU-",
        "outputId": "db6ddcd4-276c-4d3d-9d6b-3d504c3627f7"
      },
      "execution_count": null,
      "outputs": [
        {
          "output_type": "stream",
          "name": "stdout",
          "text": [
            "Isolation Forest - Accuracy: 0.00472315935701528, Precision: 3.7649622439836684e-05, Recall: 0.00472315935701528, F1 Score: 7.470143237311839e-05\n"
          ]
        },
        {
          "output_type": "stream",
          "name": "stderr",
          "text": [
            "/usr/local/lib/python3.10/dist-packages/sklearn/metrics/_classification.py:1344: UndefinedMetricWarning: Precision is ill-defined and being set to 0.0 in labels with no predicted samples. Use `zero_division` parameter to control this behavior.\n",
            "  _warn_prf(average, modifier, msg_start, len(result))\n"
          ]
        }
      ]
    },
    {
      "cell_type": "code",
      "source": [
        "from sklearn.ensemble import RandomForestClassifier\n",
        "\n",
        "# Train Random Forest model\n",
        "rf = RandomForestClassifier(random_state=42)\n",
        "rf.fit(X_train_split, y_train_split)\n",
        "\n",
        "# Predict on validation data\n",
        "rf_val_preds = rf.predict(X_val_split)\n",
        "\n",
        "# Evaluate the model\n",
        "rf_accuracy = accuracy_score(y_val_split, rf_val_preds)\n",
        "rf_precision = precision_score(y_val_split, rf_val_preds, average='weighted')\n",
        "rf_recall = recall_score(y_val_split, rf_val_preds, average='weighted')\n",
        "rf_f1 = f1_score(y_val_split, rf_val_preds, average='weighted')\n",
        "\n",
        "print(f'Random Forest - Accuracy: {rf_accuracy}, Precision: {rf_precision}, Recall: {rf_recall}, F1 Score: {rf_f1}')\n"
      ],
      "metadata": {
        "colab": {
          "base_uri": "https://localhost:8080/"
        },
        "id": "tIO7w4JBL86_",
        "outputId": "be0e58df-adaa-4b31-c6f3-cc6311e739ea"
      },
      "execution_count": null,
      "outputs": [
        {
          "output_type": "stream",
          "name": "stdout",
          "text": [
            "Random Forest - Accuracy: 0.9984917642389363, Precision: 0.9984929300781247, Recall: 0.9984917642389363, F1 Score: 0.9984050216988444\n"
          ]
        },
        {
          "output_type": "stream",
          "name": "stderr",
          "text": [
            "/usr/local/lib/python3.10/dist-packages/sklearn/metrics/_classification.py:1344: UndefinedMetricWarning: Precision is ill-defined and being set to 0.0 in labels with no predicted samples. Use `zero_division` parameter to control this behavior.\n",
            "  _warn_prf(average, modifier, msg_start, len(result))\n",
            "/usr/local/lib/python3.10/dist-packages/sklearn/metrics/_classification.py:1344: UndefinedMetricWarning: Recall is ill-defined and being set to 0.0 in labels with no true samples. Use `zero_division` parameter to control this behavior.\n",
            "  _warn_prf(average, modifier, msg_start, len(result))\n"
          ]
        }
      ]
    },
    {
      "cell_type": "markdown",
      "source": [
        "# **Ensemble Model Training and Evaluation:**"
      ],
      "metadata": {
        "id": "Un-Ik0wRJAU9"
      }
    },
    {
      "cell_type": "code",
      "source": [
        "import numpy as np\n",
        "from sklearn.linear_model import LogisticRegression\n",
        "\n",
        "# Prepare the meta features\n",
        "train_meta_features = np.column_stack((iso_forest.predict(X_train_split), rf.predict(X_train_split)))\n",
        "val_meta_features = np.column_stack((iso_forest.predict(X_val_split), rf.predict(X_val_split)))\n",
        "\n",
        "# Train the meta model\n",
        "meta_model = LogisticRegression(random_state=42)\n",
        "meta_model.fit(train_meta_features, y_train_split)\n",
        "\n",
        "# Predict on validation data using the meta model\n",
        "val_meta_preds = meta_model.predict(val_meta_features)\n",
        "\n",
        "# Evaluate the ensemble model\n",
        "ensemble_accuracy = accuracy_score(y_val_split, val_meta_preds)\n",
        "ensemble_precision = precision_score(y_val_split, val_meta_preds, average='weighted')\n",
        "ensemble_recall = recall_score(y_val_split, val_meta_preds, average='weighted')\n",
        "ensemble_f1 = f1_score(y_val_split, val_meta_preds, average='weighted')\n",
        "\n",
        "print(f'Ensemble Model - Accuracy: {ensemble_accuracy}, Precision: {ensemble_precision}, Recall: {ensemble_recall}, F1 Score: {ensemble_f1}')\n"
      ],
      "metadata": {
        "colab": {
          "base_uri": "https://localhost:8080/"
        },
        "id": "vGgHKi2xMD53",
        "outputId": "4debcc69-ff61-406c-8193-a3e0b8cfe429"
      },
      "execution_count": null,
      "outputs": [
        {
          "output_type": "stream",
          "name": "stdout",
          "text": [
            "Ensemble Model - Accuracy: 0.9372891446715618, Precision: 0.9107324794071925, Recall: 0.9372891446715618, F1 Score: 0.9213599596443796\n"
          ]
        },
        {
          "output_type": "stream",
          "name": "stderr",
          "text": [
            "/usr/local/lib/python3.10/dist-packages/sklearn/linear_model/_logistic.py:458: ConvergenceWarning: lbfgs failed to converge (status=1):\n",
            "STOP: TOTAL NO. of ITERATIONS REACHED LIMIT.\n",
            "\n",
            "Increase the number of iterations (max_iter) or scale the data as shown in:\n",
            "    https://scikit-learn.org/stable/modules/preprocessing.html\n",
            "Please also refer to the documentation for alternative solver options:\n",
            "    https://scikit-learn.org/stable/modules/linear_model.html#logistic-regression\n",
            "  n_iter_i = _check_optimize_result(\n",
            "/usr/local/lib/python3.10/dist-packages/sklearn/metrics/_classification.py:1344: UndefinedMetricWarning: Precision is ill-defined and being set to 0.0 in labels with no predicted samples. Use `zero_division` parameter to control this behavior.\n",
            "  _warn_prf(average, modifier, msg_start, len(result))\n"
          ]
        }
      ]
    },
    {
      "cell_type": "code",
      "source": [
        "# Prepare meta features for test set\n",
        "test_meta_features = np.column_stack((iso_forest.predict(X_test), rf.predict(X_test)))\n",
        "\n",
        "# Predict on test data\n",
        "test_meta_preds = meta_model.predict(test_meta_features)\n",
        "\n",
        "# Evaluate the ensemble model on test data\n",
        "test_accuracy = accuracy_score(y_test, test_meta_preds)\n",
        "test_precision = precision_score(y_test, test_meta_preds, average='weighted')\n",
        "test_recall = recall_score(y_test, test_meta_preds, average='weighted')\n",
        "test_f1 = f1_score(y_test, test_meta_preds, average='weighted')\n",
        "\n",
        "print(f'Ensemble Model Test Set - Accuracy: {test_accuracy}, Precision: {test_precision}, Recall: {test_recall}, F1 Score: {test_f1}')\n"
      ],
      "metadata": {
        "colab": {
          "base_uri": "https://localhost:8080/"
        },
        "id": "hy2AelkkMFBw",
        "outputId": "a3457ecd-0110-44e3-9026-d9dc65d55040"
      },
      "execution_count": null,
      "outputs": [
        {
          "output_type": "stream",
          "name": "stdout",
          "text": [
            "Ensemble Model Test Set - Accuracy: 0.6878992193044713, Precision: 0.5087245624144348, Recall: 0.6878992193044713, F1 Score: 0.5795289177354543\n"
          ]
        },
        {
          "output_type": "stream",
          "name": "stderr",
          "text": [
            "/usr/local/lib/python3.10/dist-packages/sklearn/metrics/_classification.py:1344: UndefinedMetricWarning: Precision is ill-defined and being set to 0.0 in labels with no predicted samples. Use `zero_division` parameter to control this behavior.\n",
            "  _warn_prf(average, modifier, msg_start, len(result))\n"
          ]
        }
      ]
    }
  ]
}